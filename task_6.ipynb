{
 "cells": [
  {
   "cell_type": "markdown",
   "metadata": {},
   "source": [
    "1. Для реализованной в методичке модели градиентного бустинга построить графики зависимости ошибки от количества деревьев в ансамбле и от максимальной глубины деревьев. \n",
    "Сделать выводы о зависимости ошибки от этих параметров."
   ]
  },
  {
   "cell_type": "code",
   "execution_count": 158,
   "metadata": {},
   "outputs": [],
   "source": [
    "from sklearn.tree import DecisionTreeRegressor\n",
    "\n",
    "from sklearn import model_selection\n",
    "import numpy as np"
   ]
  },
  {
   "cell_type": "code",
   "execution_count": 159,
   "metadata": {},
   "outputs": [],
   "source": [
    "from sklearn.datasets import load_diabetes\n",
    "X, y = load_diabetes(return_X_y=True)"
   ]
  },
  {
   "cell_type": "code",
   "execution_count": 160,
   "metadata": {},
   "outputs": [],
   "source": [
    "# Разделим выборку на обучающую и тестовую в соотношении 75/25.\n",
    "X_train, X_test, y_train, y_test = model_selection.train_test_split(X, y, test_size=0.25)"
   ]
  },
  {
   "cell_type": "code",
   "execution_count": 161,
   "metadata": {},
   "outputs": [],
   "source": [
    "# Функция, реализующую предсказание в градиентном бустинге.\n",
    "# Реализуемый алгоритм градиентного бустинга будет инициализироваться нулевыми значениями,\n",
    "# поэтому все деревья из списка trees_list уже являются дополнительными и \n",
    "# при предсказании прибавляются с шагом eta\n",
    "def gb_predict(X, trees_list, coef_list, eta):\n",
    "    res = np.array([sum([eta* coef * alg.predict([x])[0] for alg, coef in zip(trees_list, coef_list)]) for x in X])\n",
    "    return res"
   ]
  },
  {
   "cell_type": "code",
   "execution_count": 162,
   "metadata": {},
   "outputs": [],
   "source": [
    "# Функция среднеквадратичной ошибки\n",
    "def mean_squared_error(y_real, prediction):\n",
    "    return (sum((y_real - prediction)**2)) / len(y_real)"
   ]
  },
  {
   "cell_type": "code",
   "execution_count": 163,
   "metadata": {},
   "outputs": [],
   "source": [
    "# Функция потерь\n",
    "def bias(y, z):\n",
    "    return (y - z)"
   ]
  },
  {
   "cell_type": "code",
   "execution_count": 164,
   "metadata": {},
   "outputs": [],
   "source": [
    "# Обучение градиененого бустинга\n",
    "def gb_fit(n_trees, max_depth, X_train, X_test, y_train, y_test, coefs, eta):\n",
    "    \n",
    "    # Деревья будем записывать в список\n",
    "    trees = []\n",
    "    \n",
    "    # Будем записывать ошибки на обучающей и тестовой выборке на каждой итерации в список\n",
    "    train_errors = []\n",
    "    test_errors = []\n",
    "    \n",
    "    for i in range(n_trees):\n",
    "        tree = DecisionTreeRegressor(max_depth=max_depth, random_state=42)\n",
    "\n",
    "        # инициализируем бустинг начальным алгоритмом, возвращающим ноль, \n",
    "        # поэтому первый алгоритм просто обучаем на выборке и добавляем в список\n",
    "        if len(trees) == 0:\n",
    "            # обучаем первое дерево на обучающей выборке\n",
    "            tree.fit(X_train, y_train)\n",
    "            \n",
    "            train_errors.append(mean_squared_error(y_train, gb_predict(X_train, trees, coefs, eta)))\n",
    "            test_errors.append(mean_squared_error(y_test, gb_predict(X_test, trees, coefs, eta)))\n",
    "        else:\n",
    "            # Получим ответы на текущей композиции\n",
    "            target = gb_predict(X_train, trees, coefs, eta)\n",
    "            \n",
    "            # алгоритмы начиная со второго обучаем на сдвиг\n",
    "            tree.fit(X_train, bias(y_train, target))\n",
    "            \n",
    "            train_errors.append(mean_squared_error(y_train, gb_predict(X_train, trees, coefs, eta)))\n",
    "            test_errors.append(mean_squared_error(y_test, gb_predict(X_test, trees, coefs, eta)))\n",
    "\n",
    "        trees.append(tree)\n",
    "        \n",
    "    return trees, train_errors, test_errors"
   ]
  },
  {
   "cell_type": "code",
   "execution_count": 172,
   "metadata": {},
   "outputs": [],
   "source": [
    "def evaluate_alg(X_train, X_test, y_train, y_test, trees, coefs, eta, n_trees, max_depth):\n",
    "    train_prediction = gb_predict(X_train, trees, coefs, eta)\n",
    "    train_error = mean_squared_error(y_train, train_prediction)\n",
    "\n",
    "    print(f'Ошибка алгоритма из {n_trees} деревьев глубиной {max_depth} \\\n",
    "    с шагом {eta} на тренировочной выборке: {train_error}')\n",
    "\n",
    "    test_prediction = gb_predict(X_test, trees, coefs, eta)\n",
    "    test_error = mean_squared_error(y_test, test_prediction)\n",
    "\n",
    "    print(f'Ошибка алгоритма из {n_trees} деревьев глубиной {max_depth} \\\n",
    "    с шагом {eta} на тестовой выборке: {test_error}')\n",
    "    print('*'*100)\n",
    "    return train_error, test_error"
   ]
  },
  {
   "cell_type": "code",
   "execution_count": 173,
   "metadata": {},
   "outputs": [],
   "source": [
    "def num_tree(number_of_trees, max_depth):\n",
    "    eta = 0.1\n",
    "    train_trees = {}\n",
    "    test_trees = {}\n",
    "    for i in range(1, number_of_trees+1):\n",
    "        n_trees = i\n",
    "        coefs = [1]*n_trees\n",
    "        trees, train_errors, test_errors = gb_fit(n_trees, max_depth, X_train, X_test, y_train, y_test, coefs, eta)\n",
    "        all_errors = evaluate_alg(X_train, X_test, y_train, y_test, trees, coefs, eta, n_trees, max_depth)\n",
    "        train_trees[i] = all_errors[0]\n",
    "        test_trees[i] = all_errors[1]\n",
    "    return train_trees, test_trees"
   ]
  },
  {
   "cell_type": "code",
   "execution_count": 175,
   "metadata": {},
   "outputs": [
    {
     "name": "stdout",
     "output_type": "stream",
     "text": [
      "Ошибка алгоритма из 1 деревьев глубиной 3     с шагом 0.1 на тренировочной выборке: 24145.92795497978\n",
      "Ошибка алгоритма из 1 деревьев глубиной 3     с шагом 0.1 на тестовой выборке: 23835.886263241784\n",
      "****************************************************************************************************\n",
      "Ошибка алгоритма из 2 деревьев глубиной 3     с шагом 0.1 на тренировочной выборке: 20055.193717364145\n",
      "Ошибка алгоритма из 2 деревьев глубиной 3     с шагом 0.1 на тестовой выборке: 19841.752141131277\n",
      "****************************************************************************************************\n",
      "Ошибка алгоритма из 3 деревьев глубиной 3     с шагом 0.1 на тренировочной выборке: 16734.720679770882\n",
      "Ошибка алгоритма из 3 деревьев глубиной 3     с шагом 0.1 на тестовой выборке: 16599.819468689868\n",
      "****************************************************************************************************\n",
      "Ошибка алгоритма из 4 деревьев глубиной 3     с шагом 0.1 на тренировочной выборке: 14035.62759085161\n",
      "Ошибка алгоритма из 4 деревьев глубиной 3     с шагом 0.1 на тестовой выборке: 14033.838784548203\n",
      "****************************************************************************************************\n",
      "Ошибка алгоритма из 5 деревьев глубиной 3     с шагом 0.1 на тренировочной выборке: 11844.326350318917\n",
      "Ошибка алгоритма из 5 деревьев глубиной 3     с шагом 0.1 на тестовой выборке: 11907.924101380133\n",
      "****************************************************************************************************\n",
      "Ошибка алгоритма из 6 деревьев глубиной 3     с шагом 0.1 на тренировочной выборке: 10057.133145440928\n",
      "Ошибка алгоритма из 6 деревьев глубиной 3     с шагом 0.1 на тестовой выборке: 10273.417862656097\n",
      "****************************************************************************************************\n",
      "Ошибка алгоритма из 7 деревьев глубиной 3     с шагом 0.1 на тренировочной выборке: 8593.562261192616\n",
      "Ошибка алгоритма из 7 деревьев глубиной 3     с шагом 0.1 на тестовой выборке: 8862.980995437396\n",
      "****************************************************************************************************\n",
      "Ошибка алгоритма из 8 деревьев глубиной 3     с шагом 0.1 на тренировочной выборке: 7396.827889340485\n",
      "Ошибка алгоритма из 8 деревьев глубиной 3     с шагом 0.1 на тестовой выборке: 7799.761318829685\n",
      "****************************************************************************************************\n",
      "Ошибка алгоритма из 9 деревьев глубиной 3     с шагом 0.1 на тренировочной выборке: 6421.350991109572\n",
      "Ошибка алгоритма из 9 деревьев глубиной 3     с шагом 0.1 на тестовой выборке: 6913.201208930081\n",
      "****************************************************************************************************\n",
      "Ошибка алгоритма из 10 деревьев глубиной 3     с шагом 0.1 на тренировочной выборке: 5609.816889563129\n",
      "Ошибка алгоритма из 10 деревьев глубиной 3     с шагом 0.1 на тестовой выборке: 6215.77025162786\n",
      "****************************************************************************************************\n"
     ]
    }
   ],
   "source": [
    "train_trees, test_trees = num_tree(10, 3)"
   ]
  },
  {
   "cell_type": "code",
   "execution_count": 176,
   "metadata": {},
   "outputs": [
    {
     "data": {
      "image/png": "[encoded data removed]",
      "text/plain": [
       "<Figure size 432x288 with 1 Axes>"
      ]
     },
     "metadata": {
      "needs_background": "light"
     },
     "output_type": "display_data"
    }
   ],
   "source": [
    "import matplotlib.pyplot as plt\n",
    "\n",
    "plt.xlabel('Tree number')\n",
    "plt.ylabel('MSE')\n",
    "plt.xlim(1, len(all_trees))\n",
    "plt.plot(list(train_trees.keys()), list(train_trees.values()), label='train error')\n",
    "plt.plot(list(test_trees.keys()), list(test_trees.values()), label='test error')\n",
    "plt.legend(loc='upper right')\n",
    "plt.show()"
   ]
  },
  {
   "cell_type": "markdown",
   "metadata": {},
   "source": [
    "Вывод: С увеличением количества деревьев ошибка тестовой выборки, по сравнению с тренировочным сетом, уменьшается до 4 - 5 деревьев, а затем растет."
   ]
  },
  {
   "cell_type": "code",
   "execution_count": 177,
   "metadata": {},
   "outputs": [],
   "source": [
    "def num_depth(n_trees, m_depth):\n",
    "    eta = 0.1\n",
    "    coefs = [1]*n_trees\n",
    "    train_trees = {}\n",
    "    test_trees = {}\n",
    "    for i in range(1, m_depth+1):\n",
    "        max_depth = i\n",
    "        trees, train_errors, test_errors = gb_fit(n_trees, max_depth, X_train, X_test, y_train, y_test, coefs, eta)\n",
    "        all_errors = evaluate_alg(X_train, X_test, y_train, y_test, trees, coefs, eta, n_trees, max_depth)\n",
    "        train_trees[i] = all_errors[0]\n",
    "        test_trees[i] = all_errors[1]\n",
    "    return train_trees, test_trees"
   ]
  },
  {
   "cell_type": "code",
   "execution_count": 179,
   "metadata": {},
   "outputs": [
    {
     "name": "stdout",
     "output_type": "stream",
     "text": [
      "Ошибка алгоритма из 5 деревьев глубиной 1     с шагом 0.1 на тренировочной выборке: 12755.271881682454\n",
      "Ошибка алгоритма из 5 деревьев глубиной 1     с шагом 0.1 на тестовой выборке: 12507.85315932985\n",
      "****************************************************************************************************\n",
      "Ошибка алгоритма из 5 деревьев глубиной 2     с шагом 0.1 на тренировочной выборке: 12171.992560919874\n",
      "Ошибка алгоритма из 5 деревьев глубиной 2     с шагом 0.1 на тестовой выборке: 12108.200489895744\n",
      "****************************************************************************************************\n",
      "Ошибка алгоритма из 5 деревьев глубиной 3     с шагом 0.1 на тренировочной выборке: 11844.326350318917\n",
      "Ошибка алгоритма из 5 деревьев глубиной 3     с шагом 0.1 на тестовой выборке: 11907.924101380133\n",
      "****************************************************************************************************\n",
      "Ошибка алгоритма из 5 деревьев глубиной 4     с шагом 0.1 на тренировочной выборке: 11478.949007772047\n",
      "Ошибка алгоритма из 5 деревьев глубиной 4     с шагом 0.1 на тестовой выборке: 11853.087018521765\n",
      "****************************************************************************************************\n",
      "Ошибка алгоритма из 5 деревьев глубиной 5     с шагом 0.1 на тренировочной выборке: 11174.24425897082\n",
      "Ошибка алгоритма из 5 деревьев глубиной 5     с шагом 0.1 на тестовой выборке: 11906.445194669419\n",
      "****************************************************************************************************\n",
      "Ошибка алгоритма из 5 деревьев глубиной 6     с шагом 0.1 на тренировочной выборке: 10862.872180927647\n",
      "Ошибка алгоритма из 5 деревьев глубиной 6     с шагом 0.1 на тестовой выборке: 12325.687814025803\n",
      "****************************************************************************************************\n",
      "Ошибка алгоритма из 5 деревьев глубиной 7     с шагом 0.1 на тренировочной выборке: 10627.689101792123\n",
      "Ошибка алгоритма из 5 деревьев глубиной 7     с шагом 0.1 на тестовой выборке: 12746.882621965495\n",
      "****************************************************************************************************\n",
      "Ошибка алгоритма из 5 деревьев глубиной 8     с шагом 0.1 на тренировочной выборке: 10448.211158113962\n",
      "Ошибка алгоритма из 5 деревьев глубиной 8     с шагом 0.1 на тестовой выборке: 12906.809331962488\n",
      "****************************************************************************************************\n",
      "Ошибка алгоритма из 5 деревьев глубиной 9     с шагом 0.1 на тренировочной выборке: 10334.278586210736\n",
      "Ошибка алгоритма из 5 деревьев глубиной 9     с шагом 0.1 на тестовой выборке: 12839.015899870827\n",
      "****************************************************************************************************\n",
      "Ошибка алгоритма из 5 деревьев глубиной 10     с шагом 0.1 на тренировочной выборке: 10282.402569613876\n",
      "Ошибка алгоритма из 5 деревьев глубиной 10     с шагом 0.1 на тестовой выборке: 12971.773432243002\n",
      "****************************************************************************************************\n"
     ]
    }
   ],
   "source": [
    "train_trees, test_trees = num_depth(5, 10)"
   ]
  },
  {
   "cell_type": "code",
   "execution_count": 180,
   "metadata": {},
   "outputs": [
    {
     "data": {
      "image/png": "[encoded data removed]",
      "text/plain": [
       "<Figure size 432x288 with 1 Axes>"
      ]
     },
     "metadata": {
      "needs_background": "light"
     },
     "output_type": "display_data"
    }
   ],
   "source": [
    "plt.xlabel('Depth number')\n",
    "plt.ylabel('MSE')\n",
    "plt.xlim(1, len(all_trees))\n",
    "plt.plot(list(train_trees.keys()), list(train_trees.values()), label='train error')\n",
    "plt.plot(list(test_trees.keys()), list(test_trees.values()), label='test error')\n",
    "plt.legend(loc='upper right')\n",
    "plt.show()"
   ]
  },
  {
   "cell_type": "markdown",
   "metadata": {},
   "source": [
    "Ошибка тестовой выборки при увеличении глубины дерева уменьшается, по сравнению с тренировочным сетом, до 4, а затем растет."
   ]
  }
 ],
 "metadata": {
  "kernelspec": {
   "display_name": "Python 3",
   "language": "python",
   "name": "python3"
  },
  "language_info": {
   "codemirror_mode": {
    "name": "ipython",
    "version": 3
   },
   "file_extension": ".py",
   "mimetype": "text/x-python",
   "name": "python",
   "nbconvert_exporter": "python",
   "pygments_lexer": "ipython3",
   "version": "3.7.4"
  }
 },
 "nbformat": 4,
 "nbformat_minor": 2
}
